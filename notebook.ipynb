{
 "cells": [
  {
   "cell_type": "markdown",
   "source": [
    "## 1. Import packages"
   ],
   "metadata": {
    "collapsed": false
   }
  },
  {
   "cell_type": "code",
   "execution_count": 1,
   "outputs": [],
   "source": [
    "import pandas as pd\n"
   ],
   "metadata": {
    "collapsed": false
   }
  },
  {
   "cell_type": "markdown",
   "source": [
    "## 2. Import dataset"
   ],
   "metadata": {
    "collapsed": false
   }
  },
  {
   "cell_type": "code",
   "execution_count": 10,
   "outputs": [
    {
     "data": {
      "text/plain": "         ID  Year_Birth   Education Marital_Status   Income  Kidhome  \\\n1822   8334        1971      Master         Single  33316.0        1   \n1194   2245        1969      Master        Married  43641.0        1   \n2155   8933        1983    2n Cycle        Married  32146.0        1   \n2198   2632        1954  Graduation        Married  50501.0        1   \n1521   8643        1971  Graduation       Together  69930.0        0   \n2156   8726        1964    2n Cycle       Divorced  41713.0        1   \n805    4599        1976      Master        Married  49681.0        0   \n1518  10380        1972      Master        Married  37787.0        1   \n400    2488        1956    2n Cycle       Divorced  31395.0        1   \n1831   9860        1959  Graduation       Together  44911.0        0   \n\n      Teenhome Dt_Customer  Recency  MntWines  ...  NumWebVisitsMonth  \\\n1822         1  2013-10-04       34        79  ...                  6   \n1194         1  2013-04-22       50        57  ...                  6   \n2155         0  2014-05-12       16        26  ...                  6   \n2198         1  2013-06-18       10       297  ...                  6   \n1521         0  2013-05-26       21       252  ...                  3   \n2156         1  2014-04-29       57        77  ...                  6   \n805          2  2013-11-04       66       411  ...                  7   \n1518         0  2013-09-20       50        40  ...                  8   \n400          1  2013-03-23       80        23  ...                  6   \n1831         1  2013-03-15       11       159  ...                  7   \n\n      AcceptedCmp3  AcceptedCmp4  AcceptedCmp5  AcceptedCmp1  AcceptedCmp2  \\\n1822             0             0             0             0             0   \n1194             0             0             0             0             0   \n2155             0             0             0             0             0   \n2198             1             0             0             0             0   \n1521             0             0             0             0             0   \n2156             0             0             0             0             0   \n805              0             0             0             0             0   \n1518             0             0             0             0             0   \n400              0             0             0             0             0   \n1831             0             0             0             0             0   \n\n      Complain  Z_CostContact  Z_Revenue  Response  \n1822         0              3         11         0  \n1194         0              3         11         0  \n2155         0              3         11         0  \n2198         0              3         11         1  \n1521         0              3         11         0  \n2156         0              3         11         0  \n805          0              3         11         0  \n1518         0              3         11         0  \n400          0              3         11         0  \n1831         0              3         11         0  \n\n[10 rows x 29 columns]",
      "text/html": "<div>\n<style scoped>\n    .dataframe tbody tr th:only-of-type {\n        vertical-align: middle;\n    }\n\n    .dataframe tbody tr th {\n        vertical-align: top;\n    }\n\n    .dataframe thead th {\n        text-align: right;\n    }\n</style>\n<table border=\"1\" class=\"dataframe\">\n  <thead>\n    <tr style=\"text-align: right;\">\n      <th></th>\n      <th>ID</th>\n      <th>Year_Birth</th>\n      <th>Education</th>\n      <th>Marital_Status</th>\n      <th>Income</th>\n      <th>Kidhome</th>\n      <th>Teenhome</th>\n      <th>Dt_Customer</th>\n      <th>Recency</th>\n      <th>MntWines</th>\n      <th>...</th>\n      <th>NumWebVisitsMonth</th>\n      <th>AcceptedCmp3</th>\n      <th>AcceptedCmp4</th>\n      <th>AcceptedCmp5</th>\n      <th>AcceptedCmp1</th>\n      <th>AcceptedCmp2</th>\n      <th>Complain</th>\n      <th>Z_CostContact</th>\n      <th>Z_Revenue</th>\n      <th>Response</th>\n    </tr>\n  </thead>\n  <tbody>\n    <tr>\n      <th>1822</th>\n      <td>8334</td>\n      <td>1971</td>\n      <td>Master</td>\n      <td>Single</td>\n      <td>33316.0</td>\n      <td>1</td>\n      <td>1</td>\n      <td>2013-10-04</td>\n      <td>34</td>\n      <td>79</td>\n      <td>...</td>\n      <td>6</td>\n      <td>0</td>\n      <td>0</td>\n      <td>0</td>\n      <td>0</td>\n      <td>0</td>\n      <td>0</td>\n      <td>3</td>\n      <td>11</td>\n      <td>0</td>\n    </tr>\n    <tr>\n      <th>1194</th>\n      <td>2245</td>\n      <td>1969</td>\n      <td>Master</td>\n      <td>Married</td>\n      <td>43641.0</td>\n      <td>1</td>\n      <td>1</td>\n      <td>2013-04-22</td>\n      <td>50</td>\n      <td>57</td>\n      <td>...</td>\n      <td>6</td>\n      <td>0</td>\n      <td>0</td>\n      <td>0</td>\n      <td>0</td>\n      <td>0</td>\n      <td>0</td>\n      <td>3</td>\n      <td>11</td>\n      <td>0</td>\n    </tr>\n    <tr>\n      <th>2155</th>\n      <td>8933</td>\n      <td>1983</td>\n      <td>2n Cycle</td>\n      <td>Married</td>\n      <td>32146.0</td>\n      <td>1</td>\n      <td>0</td>\n      <td>2014-05-12</td>\n      <td>16</td>\n      <td>26</td>\n      <td>...</td>\n      <td>6</td>\n      <td>0</td>\n      <td>0</td>\n      <td>0</td>\n      <td>0</td>\n      <td>0</td>\n      <td>0</td>\n      <td>3</td>\n      <td>11</td>\n      <td>0</td>\n    </tr>\n    <tr>\n      <th>2198</th>\n      <td>2632</td>\n      <td>1954</td>\n      <td>Graduation</td>\n      <td>Married</td>\n      <td>50501.0</td>\n      <td>1</td>\n      <td>1</td>\n      <td>2013-06-18</td>\n      <td>10</td>\n      <td>297</td>\n      <td>...</td>\n      <td>6</td>\n      <td>1</td>\n      <td>0</td>\n      <td>0</td>\n      <td>0</td>\n      <td>0</td>\n      <td>0</td>\n      <td>3</td>\n      <td>11</td>\n      <td>1</td>\n    </tr>\n    <tr>\n      <th>1521</th>\n      <td>8643</td>\n      <td>1971</td>\n      <td>Graduation</td>\n      <td>Together</td>\n      <td>69930.0</td>\n      <td>0</td>\n      <td>0</td>\n      <td>2013-05-26</td>\n      <td>21</td>\n      <td>252</td>\n      <td>...</td>\n      <td>3</td>\n      <td>0</td>\n      <td>0</td>\n      <td>0</td>\n      <td>0</td>\n      <td>0</td>\n      <td>0</td>\n      <td>3</td>\n      <td>11</td>\n      <td>0</td>\n    </tr>\n    <tr>\n      <th>2156</th>\n      <td>8726</td>\n      <td>1964</td>\n      <td>2n Cycle</td>\n      <td>Divorced</td>\n      <td>41713.0</td>\n      <td>1</td>\n      <td>1</td>\n      <td>2014-04-29</td>\n      <td>57</td>\n      <td>77</td>\n      <td>...</td>\n      <td>6</td>\n      <td>0</td>\n      <td>0</td>\n      <td>0</td>\n      <td>0</td>\n      <td>0</td>\n      <td>0</td>\n      <td>3</td>\n      <td>11</td>\n      <td>0</td>\n    </tr>\n    <tr>\n      <th>805</th>\n      <td>4599</td>\n      <td>1976</td>\n      <td>Master</td>\n      <td>Married</td>\n      <td>49681.0</td>\n      <td>0</td>\n      <td>2</td>\n      <td>2013-11-04</td>\n      <td>66</td>\n      <td>411</td>\n      <td>...</td>\n      <td>7</td>\n      <td>0</td>\n      <td>0</td>\n      <td>0</td>\n      <td>0</td>\n      <td>0</td>\n      <td>0</td>\n      <td>3</td>\n      <td>11</td>\n      <td>0</td>\n    </tr>\n    <tr>\n      <th>1518</th>\n      <td>10380</td>\n      <td>1972</td>\n      <td>Master</td>\n      <td>Married</td>\n      <td>37787.0</td>\n      <td>1</td>\n      <td>0</td>\n      <td>2013-09-20</td>\n      <td>50</td>\n      <td>40</td>\n      <td>...</td>\n      <td>8</td>\n      <td>0</td>\n      <td>0</td>\n      <td>0</td>\n      <td>0</td>\n      <td>0</td>\n      <td>0</td>\n      <td>3</td>\n      <td>11</td>\n      <td>0</td>\n    </tr>\n    <tr>\n      <th>400</th>\n      <td>2488</td>\n      <td>1956</td>\n      <td>2n Cycle</td>\n      <td>Divorced</td>\n      <td>31395.0</td>\n      <td>1</td>\n      <td>1</td>\n      <td>2013-03-23</td>\n      <td>80</td>\n      <td>23</td>\n      <td>...</td>\n      <td>6</td>\n      <td>0</td>\n      <td>0</td>\n      <td>0</td>\n      <td>0</td>\n      <td>0</td>\n      <td>0</td>\n      <td>3</td>\n      <td>11</td>\n      <td>0</td>\n    </tr>\n    <tr>\n      <th>1831</th>\n      <td>9860</td>\n      <td>1959</td>\n      <td>Graduation</td>\n      <td>Together</td>\n      <td>44911.0</td>\n      <td>0</td>\n      <td>1</td>\n      <td>2013-03-15</td>\n      <td>11</td>\n      <td>159</td>\n      <td>...</td>\n      <td>7</td>\n      <td>0</td>\n      <td>0</td>\n      <td>0</td>\n      <td>0</td>\n      <td>0</td>\n      <td>0</td>\n      <td>3</td>\n      <td>11</td>\n      <td>0</td>\n    </tr>\n  </tbody>\n</table>\n<p>10 rows × 29 columns</p>\n</div>"
     },
     "execution_count": 10,
     "metadata": {},
     "output_type": "execute_result"
    }
   ],
   "source": [
    "# import dataset from github\n",
    "df = pd.read_csv('https://raw.githubusercontent.com/ifood/ifood-data-business-analyst-test/master/ml_project1_data.csv', sep=',')"
   ],
   "metadata": {
    "collapsed": false
   }
  },
  {
   "cell_type": "markdown",
   "source": [
    "## 3. Exploratory Analysis\n",
    "Notes:\n",
    "1. shape = (2240,29)\n",
    "2. Income has NaN values\n",
    "3.\n"
   ],
   "metadata": {
    "collapsed": false
   }
  },
  {
   "cell_type": "markdown",
   "source": [
    "### 3.1 Let's see quantity of samples that has Income = NaN (None)"
   ],
   "metadata": {
    "collapsed": false
   }
  },
  {
   "cell_type": "code",
   "execution_count": 7,
   "outputs": [
    {
     "data": {
      "text/plain": "         ID  Year_Birth   Education Marital_Status  Income  Kidhome  Teenhome  \\\n10     1994        1983  Graduation        Married     NaN        1         0   \n27     5255        1986  Graduation         Single     NaN        1         0   \n43     7281        1959         PhD         Single     NaN        0         0   \n48     7244        1951  Graduation         Single     NaN        2         1   \n58     8557        1982  Graduation         Single     NaN        1         0   \n71    10629        1973    2n Cycle        Married     NaN        1         0   \n90     8996        1957         PhD        Married     NaN        2         1   \n91     9235        1957  Graduation         Single     NaN        1         1   \n92     5798        1973      Master       Together     NaN        0         0   \n128    8268        1961         PhD        Married     NaN        0         1   \n133    1295        1963  Graduation        Married     NaN        0         1   \n312    2437        1989  Graduation        Married     NaN        0         0   \n319    2863        1970  Graduation         Single     NaN        1         2   \n1379  10475        1970      Master       Together     NaN        0         1   \n1382   2902        1958  Graduation       Together     NaN        1         1   \n1383   4345        1964    2n Cycle         Single     NaN        1         1   \n1386   3769        1972         PhD       Together     NaN        1         0   \n2059   7187        1969      Master       Together     NaN        1         1   \n2061   1612        1981         PhD         Single     NaN        1         0   \n2078   5079        1971  Graduation        Married     NaN        1         1   \n2079  10339        1954      Master       Together     NaN        0         1   \n2081   3117        1955  Graduation         Single     NaN        0         1   \n2084   5250        1943      Master          Widow     NaN        0         0   \n2228   8720        1978    2n Cycle       Together     NaN        0         0   \n\n     Dt_Customer  Recency  MntWines  ...  NumWebVisitsMonth  AcceptedCmp3  \\\n10    2013-11-15       11         5  ...                  7             0   \n27    2013-02-20       19         5  ...                  1             0   \n43    2013-11-05       80        81  ...                  2             0   \n48    2014-01-01       96        48  ...                  6             0   \n58    2013-06-17       57        11  ...                  6             0   \n71    2012-09-14       25        25  ...                  8             0   \n90    2012-11-19        4       230  ...                  9             0   \n91    2014-05-27       45         7  ...                  7             0   \n92    2013-11-23       87       445  ...                  1             0   \n128   2013-07-11       23       352  ...                  6             0   \n133   2013-08-11       96       231  ...                  4             0   \n312   2013-06-03       69       861  ...                  3             0   \n319   2013-08-23       67       738  ...                  7             0   \n1379  2013-04-01       39       187  ...                  5             0   \n1382  2012-09-03       87        19  ...                  5             0   \n1383  2014-01-12       49         5  ...                  7             0   \n1386  2014-03-02       17        25  ...                  7             0   \n2059  2013-05-18       52       375  ...                  3             0   \n2061  2013-05-31       82        23  ...                  6             0   \n2078  2013-03-03       82        71  ...                  8             0   \n2079  2013-06-23       83       161  ...                  6             0   \n2081  2013-10-18       95       264  ...                  7             0   \n2084  2013-10-30       75       532  ...                  1             0   \n2228  2012-08-12       53        32  ...                  0             0   \n\n      AcceptedCmp4  AcceptedCmp5  AcceptedCmp1  AcceptedCmp2  Complain  \\\n10               0             0             0             0         0   \n27               0             0             0             0         0   \n43               0             0             0             0         0   \n48               0             0             0             0         0   \n58               0             0             0             0         0   \n71               0             0             0             0         0   \n90               0             0             0             0         0   \n91               0             0             0             0         0   \n92               0             0             0             0         0   \n128              0             0             0             0         0   \n133              0             0             0             0         0   \n312              1             0             1             0         0   \n319              1             0             1             0         0   \n1379             0             0             0             0         0   \n1382             0             0             0             0         0   \n1383             0             0             0             0         0   \n1386             0             0             0             0         0   \n2059             0             0             0             0         0   \n2061             0             0             0             0         0   \n2078             0             0             0             0         0   \n2079             0             0             0             0         0   \n2081             0             0             0             0         0   \n2084             0             1             0             0         0   \n2228             1             0             0             0         0   \n\n      Z_CostContact  Z_Revenue  Response  \n10                3         11         0  \n27                3         11         0  \n43                3         11         0  \n48                3         11         0  \n58                3         11         0  \n71                3         11         0  \n90                3         11         0  \n91                3         11         0  \n92                3         11         0  \n128               3         11         0  \n133               3         11         0  \n312               3         11         0  \n319               3         11         0  \n1379              3         11         0  \n1382              3         11         0  \n1383              3         11         0  \n1386              3         11         0  \n2059              3         11         0  \n2061              3         11         0  \n2078              3         11         0  \n2079              3         11         0  \n2081              3         11         0  \n2084              3         11         1  \n2228              3         11         0  \n\n[24 rows x 29 columns]",
      "text/html": "<div>\n<style scoped>\n    .dataframe tbody tr th:only-of-type {\n        vertical-align: middle;\n    }\n\n    .dataframe tbody tr th {\n        vertical-align: top;\n    }\n\n    .dataframe thead th {\n        text-align: right;\n    }\n</style>\n<table border=\"1\" class=\"dataframe\">\n  <thead>\n    <tr style=\"text-align: right;\">\n      <th></th>\n      <th>ID</th>\n      <th>Year_Birth</th>\n      <th>Education</th>\n      <th>Marital_Status</th>\n      <th>Income</th>\n      <th>Kidhome</th>\n      <th>Teenhome</th>\n      <th>Dt_Customer</th>\n      <th>Recency</th>\n      <th>MntWines</th>\n      <th>...</th>\n      <th>NumWebVisitsMonth</th>\n      <th>AcceptedCmp3</th>\n      <th>AcceptedCmp4</th>\n      <th>AcceptedCmp5</th>\n      <th>AcceptedCmp1</th>\n      <th>AcceptedCmp2</th>\n      <th>Complain</th>\n      <th>Z_CostContact</th>\n      <th>Z_Revenue</th>\n      <th>Response</th>\n    </tr>\n  </thead>\n  <tbody>\n    <tr>\n      <th>10</th>\n      <td>1994</td>\n      <td>1983</td>\n      <td>Graduation</td>\n      <td>Married</td>\n      <td>NaN</td>\n      <td>1</td>\n      <td>0</td>\n      <td>2013-11-15</td>\n      <td>11</td>\n      <td>5</td>\n      <td>...</td>\n      <td>7</td>\n      <td>0</td>\n      <td>0</td>\n      <td>0</td>\n      <td>0</td>\n      <td>0</td>\n      <td>0</td>\n      <td>3</td>\n      <td>11</td>\n      <td>0</td>\n    </tr>\n    <tr>\n      <th>27</th>\n      <td>5255</td>\n      <td>1986</td>\n      <td>Graduation</td>\n      <td>Single</td>\n      <td>NaN</td>\n      <td>1</td>\n      <td>0</td>\n      <td>2013-02-20</td>\n      <td>19</td>\n      <td>5</td>\n      <td>...</td>\n      <td>1</td>\n      <td>0</td>\n      <td>0</td>\n      <td>0</td>\n      <td>0</td>\n      <td>0</td>\n      <td>0</td>\n      <td>3</td>\n      <td>11</td>\n      <td>0</td>\n    </tr>\n    <tr>\n      <th>43</th>\n      <td>7281</td>\n      <td>1959</td>\n      <td>PhD</td>\n      <td>Single</td>\n      <td>NaN</td>\n      <td>0</td>\n      <td>0</td>\n      <td>2013-11-05</td>\n      <td>80</td>\n      <td>81</td>\n      <td>...</td>\n      <td>2</td>\n      <td>0</td>\n      <td>0</td>\n      <td>0</td>\n      <td>0</td>\n      <td>0</td>\n      <td>0</td>\n      <td>3</td>\n      <td>11</td>\n      <td>0</td>\n    </tr>\n    <tr>\n      <th>48</th>\n      <td>7244</td>\n      <td>1951</td>\n      <td>Graduation</td>\n      <td>Single</td>\n      <td>NaN</td>\n      <td>2</td>\n      <td>1</td>\n      <td>2014-01-01</td>\n      <td>96</td>\n      <td>48</td>\n      <td>...</td>\n      <td>6</td>\n      <td>0</td>\n      <td>0</td>\n      <td>0</td>\n      <td>0</td>\n      <td>0</td>\n      <td>0</td>\n      <td>3</td>\n      <td>11</td>\n      <td>0</td>\n    </tr>\n    <tr>\n      <th>58</th>\n      <td>8557</td>\n      <td>1982</td>\n      <td>Graduation</td>\n      <td>Single</td>\n      <td>NaN</td>\n      <td>1</td>\n      <td>0</td>\n      <td>2013-06-17</td>\n      <td>57</td>\n      <td>11</td>\n      <td>...</td>\n      <td>6</td>\n      <td>0</td>\n      <td>0</td>\n      <td>0</td>\n      <td>0</td>\n      <td>0</td>\n      <td>0</td>\n      <td>3</td>\n      <td>11</td>\n      <td>0</td>\n    </tr>\n    <tr>\n      <th>71</th>\n      <td>10629</td>\n      <td>1973</td>\n      <td>2n Cycle</td>\n      <td>Married</td>\n      <td>NaN</td>\n      <td>1</td>\n      <td>0</td>\n      <td>2012-09-14</td>\n      <td>25</td>\n      <td>25</td>\n      <td>...</td>\n      <td>8</td>\n      <td>0</td>\n      <td>0</td>\n      <td>0</td>\n      <td>0</td>\n      <td>0</td>\n      <td>0</td>\n      <td>3</td>\n      <td>11</td>\n      <td>0</td>\n    </tr>\n    <tr>\n      <th>90</th>\n      <td>8996</td>\n      <td>1957</td>\n      <td>PhD</td>\n      <td>Married</td>\n      <td>NaN</td>\n      <td>2</td>\n      <td>1</td>\n      <td>2012-11-19</td>\n      <td>4</td>\n      <td>230</td>\n      <td>...</td>\n      <td>9</td>\n      <td>0</td>\n      <td>0</td>\n      <td>0</td>\n      <td>0</td>\n      <td>0</td>\n      <td>0</td>\n      <td>3</td>\n      <td>11</td>\n      <td>0</td>\n    </tr>\n    <tr>\n      <th>91</th>\n      <td>9235</td>\n      <td>1957</td>\n      <td>Graduation</td>\n      <td>Single</td>\n      <td>NaN</td>\n      <td>1</td>\n      <td>1</td>\n      <td>2014-05-27</td>\n      <td>45</td>\n      <td>7</td>\n      <td>...</td>\n      <td>7</td>\n      <td>0</td>\n      <td>0</td>\n      <td>0</td>\n      <td>0</td>\n      <td>0</td>\n      <td>0</td>\n      <td>3</td>\n      <td>11</td>\n      <td>0</td>\n    </tr>\n    <tr>\n      <th>92</th>\n      <td>5798</td>\n      <td>1973</td>\n      <td>Master</td>\n      <td>Together</td>\n      <td>NaN</td>\n      <td>0</td>\n      <td>0</td>\n      <td>2013-11-23</td>\n      <td>87</td>\n      <td>445</td>\n      <td>...</td>\n      <td>1</td>\n      <td>0</td>\n      <td>0</td>\n      <td>0</td>\n      <td>0</td>\n      <td>0</td>\n      <td>0</td>\n      <td>3</td>\n      <td>11</td>\n      <td>0</td>\n    </tr>\n    <tr>\n      <th>128</th>\n      <td>8268</td>\n      <td>1961</td>\n      <td>PhD</td>\n      <td>Married</td>\n      <td>NaN</td>\n      <td>0</td>\n      <td>1</td>\n      <td>2013-07-11</td>\n      <td>23</td>\n      <td>352</td>\n      <td>...</td>\n      <td>6</td>\n      <td>0</td>\n      <td>0</td>\n      <td>0</td>\n      <td>0</td>\n      <td>0</td>\n      <td>0</td>\n      <td>3</td>\n      <td>11</td>\n      <td>0</td>\n    </tr>\n    <tr>\n      <th>133</th>\n      <td>1295</td>\n      <td>1963</td>\n      <td>Graduation</td>\n      <td>Married</td>\n      <td>NaN</td>\n      <td>0</td>\n      <td>1</td>\n      <td>2013-08-11</td>\n      <td>96</td>\n      <td>231</td>\n      <td>...</td>\n      <td>4</td>\n      <td>0</td>\n      <td>0</td>\n      <td>0</td>\n      <td>0</td>\n      <td>0</td>\n      <td>0</td>\n      <td>3</td>\n      <td>11</td>\n      <td>0</td>\n    </tr>\n    <tr>\n      <th>312</th>\n      <td>2437</td>\n      <td>1989</td>\n      <td>Graduation</td>\n      <td>Married</td>\n      <td>NaN</td>\n      <td>0</td>\n      <td>0</td>\n      <td>2013-06-03</td>\n      <td>69</td>\n      <td>861</td>\n      <td>...</td>\n      <td>3</td>\n      <td>0</td>\n      <td>1</td>\n      <td>0</td>\n      <td>1</td>\n      <td>0</td>\n      <td>0</td>\n      <td>3</td>\n      <td>11</td>\n      <td>0</td>\n    </tr>\n    <tr>\n      <th>319</th>\n      <td>2863</td>\n      <td>1970</td>\n      <td>Graduation</td>\n      <td>Single</td>\n      <td>NaN</td>\n      <td>1</td>\n      <td>2</td>\n      <td>2013-08-23</td>\n      <td>67</td>\n      <td>738</td>\n      <td>...</td>\n      <td>7</td>\n      <td>0</td>\n      <td>1</td>\n      <td>0</td>\n      <td>1</td>\n      <td>0</td>\n      <td>0</td>\n      <td>3</td>\n      <td>11</td>\n      <td>0</td>\n    </tr>\n    <tr>\n      <th>1379</th>\n      <td>10475</td>\n      <td>1970</td>\n      <td>Master</td>\n      <td>Together</td>\n      <td>NaN</td>\n      <td>0</td>\n      <td>1</td>\n      <td>2013-04-01</td>\n      <td>39</td>\n      <td>187</td>\n      <td>...</td>\n      <td>5</td>\n      <td>0</td>\n      <td>0</td>\n      <td>0</td>\n      <td>0</td>\n      <td>0</td>\n      <td>0</td>\n      <td>3</td>\n      <td>11</td>\n      <td>0</td>\n    </tr>\n    <tr>\n      <th>1382</th>\n      <td>2902</td>\n      <td>1958</td>\n      <td>Graduation</td>\n      <td>Together</td>\n      <td>NaN</td>\n      <td>1</td>\n      <td>1</td>\n      <td>2012-09-03</td>\n      <td>87</td>\n      <td>19</td>\n      <td>...</td>\n      <td>5</td>\n      <td>0</td>\n      <td>0</td>\n      <td>0</td>\n      <td>0</td>\n      <td>0</td>\n      <td>0</td>\n      <td>3</td>\n      <td>11</td>\n      <td>0</td>\n    </tr>\n    <tr>\n      <th>1383</th>\n      <td>4345</td>\n      <td>1964</td>\n      <td>2n Cycle</td>\n      <td>Single</td>\n      <td>NaN</td>\n      <td>1</td>\n      <td>1</td>\n      <td>2014-01-12</td>\n      <td>49</td>\n      <td>5</td>\n      <td>...</td>\n      <td>7</td>\n      <td>0</td>\n      <td>0</td>\n      <td>0</td>\n      <td>0</td>\n      <td>0</td>\n      <td>0</td>\n      <td>3</td>\n      <td>11</td>\n      <td>0</td>\n    </tr>\n    <tr>\n      <th>1386</th>\n      <td>3769</td>\n      <td>1972</td>\n      <td>PhD</td>\n      <td>Together</td>\n      <td>NaN</td>\n      <td>1</td>\n      <td>0</td>\n      <td>2014-03-02</td>\n      <td>17</td>\n      <td>25</td>\n      <td>...</td>\n      <td>7</td>\n      <td>0</td>\n      <td>0</td>\n      <td>0</td>\n      <td>0</td>\n      <td>0</td>\n      <td>0</td>\n      <td>3</td>\n      <td>11</td>\n      <td>0</td>\n    </tr>\n    <tr>\n      <th>2059</th>\n      <td>7187</td>\n      <td>1969</td>\n      <td>Master</td>\n      <td>Together</td>\n      <td>NaN</td>\n      <td>1</td>\n      <td>1</td>\n      <td>2013-05-18</td>\n      <td>52</td>\n      <td>375</td>\n      <td>...</td>\n      <td>3</td>\n      <td>0</td>\n      <td>0</td>\n      <td>0</td>\n      <td>0</td>\n      <td>0</td>\n      <td>0</td>\n      <td>3</td>\n      <td>11</td>\n      <td>0</td>\n    </tr>\n    <tr>\n      <th>2061</th>\n      <td>1612</td>\n      <td>1981</td>\n      <td>PhD</td>\n      <td>Single</td>\n      <td>NaN</td>\n      <td>1</td>\n      <td>0</td>\n      <td>2013-05-31</td>\n      <td>82</td>\n      <td>23</td>\n      <td>...</td>\n      <td>6</td>\n      <td>0</td>\n      <td>0</td>\n      <td>0</td>\n      <td>0</td>\n      <td>0</td>\n      <td>0</td>\n      <td>3</td>\n      <td>11</td>\n      <td>0</td>\n    </tr>\n    <tr>\n      <th>2078</th>\n      <td>5079</td>\n      <td>1971</td>\n      <td>Graduation</td>\n      <td>Married</td>\n      <td>NaN</td>\n      <td>1</td>\n      <td>1</td>\n      <td>2013-03-03</td>\n      <td>82</td>\n      <td>71</td>\n      <td>...</td>\n      <td>8</td>\n      <td>0</td>\n      <td>0</td>\n      <td>0</td>\n      <td>0</td>\n      <td>0</td>\n      <td>0</td>\n      <td>3</td>\n      <td>11</td>\n      <td>0</td>\n    </tr>\n    <tr>\n      <th>2079</th>\n      <td>10339</td>\n      <td>1954</td>\n      <td>Master</td>\n      <td>Together</td>\n      <td>NaN</td>\n      <td>0</td>\n      <td>1</td>\n      <td>2013-06-23</td>\n      <td>83</td>\n      <td>161</td>\n      <td>...</td>\n      <td>6</td>\n      <td>0</td>\n      <td>0</td>\n      <td>0</td>\n      <td>0</td>\n      <td>0</td>\n      <td>0</td>\n      <td>3</td>\n      <td>11</td>\n      <td>0</td>\n    </tr>\n    <tr>\n      <th>2081</th>\n      <td>3117</td>\n      <td>1955</td>\n      <td>Graduation</td>\n      <td>Single</td>\n      <td>NaN</td>\n      <td>0</td>\n      <td>1</td>\n      <td>2013-10-18</td>\n      <td>95</td>\n      <td>264</td>\n      <td>...</td>\n      <td>7</td>\n      <td>0</td>\n      <td>0</td>\n      <td>0</td>\n      <td>0</td>\n      <td>0</td>\n      <td>0</td>\n      <td>3</td>\n      <td>11</td>\n      <td>0</td>\n    </tr>\n    <tr>\n      <th>2084</th>\n      <td>5250</td>\n      <td>1943</td>\n      <td>Master</td>\n      <td>Widow</td>\n      <td>NaN</td>\n      <td>0</td>\n      <td>0</td>\n      <td>2013-10-30</td>\n      <td>75</td>\n      <td>532</td>\n      <td>...</td>\n      <td>1</td>\n      <td>0</td>\n      <td>0</td>\n      <td>1</td>\n      <td>0</td>\n      <td>0</td>\n      <td>0</td>\n      <td>3</td>\n      <td>11</td>\n      <td>1</td>\n    </tr>\n    <tr>\n      <th>2228</th>\n      <td>8720</td>\n      <td>1978</td>\n      <td>2n Cycle</td>\n      <td>Together</td>\n      <td>NaN</td>\n      <td>0</td>\n      <td>0</td>\n      <td>2012-08-12</td>\n      <td>53</td>\n      <td>32</td>\n      <td>...</td>\n      <td>0</td>\n      <td>0</td>\n      <td>1</td>\n      <td>0</td>\n      <td>0</td>\n      <td>0</td>\n      <td>0</td>\n      <td>3</td>\n      <td>11</td>\n      <td>0</td>\n    </tr>\n  </tbody>\n</table>\n<p>24 rows × 29 columns</p>\n</div>"
     },
     "execution_count": 7,
     "metadata": {},
     "output_type": "execute_result"
    }
   ],
   "source": [
    "df[df['Income'].isnull()]"
   ],
   "metadata": {
    "collapsed": false
   }
  },
  {
   "cell_type": "markdown",
   "source": [
    "Notes:\n"
   ],
   "metadata": {
    "collapsed": false
   }
  },
  {
   "cell_type": "markdown",
   "source": [
    "### 3.2. Analyzing 10 samples (5 with target = 1 and 5 with target = 0)\n",
    "Objective: find nice features and bad features. Maybe remove features to use better data"
   ],
   "metadata": {
    "collapsed": false
   }
  },
  {
   "cell_type": "code",
   "execution_count": 31,
   "outputs": [
    {
     "data": {
      "text/plain": "         ID  Year_Birth   Education Marital_Status   Income  Kidhome  \\\n0      5524        1957  Graduation         Single  58138.0        0   \n1084   6072        1970      Master         Single  75345.0        0   \n1000  10473        1956         PhD          Widow  78028.0        0   \n1001   7962        1987         PhD         Single  95169.0        0   \n1002   9984        1981    2n Cycle        Married  56337.0        1   \n106    7533        1964  Graduation        Married  49096.0        1   \n105    8373        1979       Basic       Together  24594.0        1   \n1587   2471        1965  Graduation        Married  61482.0        0   \n1718  10640        1974  Graduation       Together  44392.0        1   \n1588   5892        1980  Graduation        Married  34968.0        1   \n\n      Teenhome Dt_Customer  Recency  MntWines  ...  AcceptedCmp3  \\\n0            0  2012-09-04       58       635  ...             0   \n1084         0  2013-02-02       16       918  ...             0   \n1000         1  2012-09-10       38       158  ...             0   \n1001         0  2013-10-09        1      1285  ...             0   \n1002         1  2013-03-27       25       349  ...             1   \n106          1  2013-09-24       15       144  ...             0   \n105          0  2013-12-10       94         1  ...             0   \n1587         0  2014-06-27       39        48  ...             0   \n1718         1  2013-09-05       71        87  ...             0   \n1588         0  2013-04-10       11       158  ...             0   \n\n      AcceptedCmp4  AcceptedCmp5  AcceptedCmp1  AcceptedCmp2  Complain  \\\n0                0             0             0             0         0   \n1084             0             0             1             0         0   \n1000             1             1             0             0         0   \n1001             0             1             1             0         0   \n1002             0             0             1             0         0   \n106              0             0             0             0         0   \n105              0             0             0             0         0   \n1587             0             0             0             0         0   \n1718             0             0             0             0         0   \n1588             0             0             0             0         0   \n\n      Z_CostContact  Z_Revenue  Response  Age  \n0                 3         11         1   57  \n1084              3         11         1   44  \n1000              3         11         1   58  \n1001              3         11         1   27  \n1002              3         11         1   33  \n106               3         11         0   50  \n105               3         11         0   35  \n1587              3         11         0   49  \n1718              3         11         0   40  \n1588              3         11         0   34  \n\n[10 rows x 30 columns]",
      "text/html": "<div>\n<style scoped>\n    .dataframe tbody tr th:only-of-type {\n        vertical-align: middle;\n    }\n\n    .dataframe tbody tr th {\n        vertical-align: top;\n    }\n\n    .dataframe thead th {\n        text-align: right;\n    }\n</style>\n<table border=\"1\" class=\"dataframe\">\n  <thead>\n    <tr style=\"text-align: right;\">\n      <th></th>\n      <th>ID</th>\n      <th>Year_Birth</th>\n      <th>Education</th>\n      <th>Marital_Status</th>\n      <th>Income</th>\n      <th>Kidhome</th>\n      <th>Teenhome</th>\n      <th>Dt_Customer</th>\n      <th>Recency</th>\n      <th>MntWines</th>\n      <th>...</th>\n      <th>AcceptedCmp3</th>\n      <th>AcceptedCmp4</th>\n      <th>AcceptedCmp5</th>\n      <th>AcceptedCmp1</th>\n      <th>AcceptedCmp2</th>\n      <th>Complain</th>\n      <th>Z_CostContact</th>\n      <th>Z_Revenue</th>\n      <th>Response</th>\n      <th>Age</th>\n    </tr>\n  </thead>\n  <tbody>\n    <tr>\n      <th>0</th>\n      <td>5524</td>\n      <td>1957</td>\n      <td>Graduation</td>\n      <td>Single</td>\n      <td>58138.0</td>\n      <td>0</td>\n      <td>0</td>\n      <td>2012-09-04</td>\n      <td>58</td>\n      <td>635</td>\n      <td>...</td>\n      <td>0</td>\n      <td>0</td>\n      <td>0</td>\n      <td>0</td>\n      <td>0</td>\n      <td>0</td>\n      <td>3</td>\n      <td>11</td>\n      <td>1</td>\n      <td>57</td>\n    </tr>\n    <tr>\n      <th>1084</th>\n      <td>6072</td>\n      <td>1970</td>\n      <td>Master</td>\n      <td>Single</td>\n      <td>75345.0</td>\n      <td>0</td>\n      <td>0</td>\n      <td>2013-02-02</td>\n      <td>16</td>\n      <td>918</td>\n      <td>...</td>\n      <td>0</td>\n      <td>0</td>\n      <td>0</td>\n      <td>1</td>\n      <td>0</td>\n      <td>0</td>\n      <td>3</td>\n      <td>11</td>\n      <td>1</td>\n      <td>44</td>\n    </tr>\n    <tr>\n      <th>1000</th>\n      <td>10473</td>\n      <td>1956</td>\n      <td>PhD</td>\n      <td>Widow</td>\n      <td>78028.0</td>\n      <td>0</td>\n      <td>1</td>\n      <td>2012-09-10</td>\n      <td>38</td>\n      <td>158</td>\n      <td>...</td>\n      <td>0</td>\n      <td>1</td>\n      <td>1</td>\n      <td>0</td>\n      <td>0</td>\n      <td>0</td>\n      <td>3</td>\n      <td>11</td>\n      <td>1</td>\n      <td>58</td>\n    </tr>\n    <tr>\n      <th>1001</th>\n      <td>7962</td>\n      <td>1987</td>\n      <td>PhD</td>\n      <td>Single</td>\n      <td>95169.0</td>\n      <td>0</td>\n      <td>0</td>\n      <td>2013-10-09</td>\n      <td>1</td>\n      <td>1285</td>\n      <td>...</td>\n      <td>0</td>\n      <td>0</td>\n      <td>1</td>\n      <td>1</td>\n      <td>0</td>\n      <td>0</td>\n      <td>3</td>\n      <td>11</td>\n      <td>1</td>\n      <td>27</td>\n    </tr>\n    <tr>\n      <th>1002</th>\n      <td>9984</td>\n      <td>1981</td>\n      <td>2n Cycle</td>\n      <td>Married</td>\n      <td>56337.0</td>\n      <td>1</td>\n      <td>1</td>\n      <td>2013-03-27</td>\n      <td>25</td>\n      <td>349</td>\n      <td>...</td>\n      <td>1</td>\n      <td>0</td>\n      <td>0</td>\n      <td>1</td>\n      <td>0</td>\n      <td>0</td>\n      <td>3</td>\n      <td>11</td>\n      <td>1</td>\n      <td>33</td>\n    </tr>\n    <tr>\n      <th>106</th>\n      <td>7533</td>\n      <td>1964</td>\n      <td>Graduation</td>\n      <td>Married</td>\n      <td>49096.0</td>\n      <td>1</td>\n      <td>1</td>\n      <td>2013-09-24</td>\n      <td>15</td>\n      <td>144</td>\n      <td>...</td>\n      <td>0</td>\n      <td>0</td>\n      <td>0</td>\n      <td>0</td>\n      <td>0</td>\n      <td>0</td>\n      <td>3</td>\n      <td>11</td>\n      <td>0</td>\n      <td>50</td>\n    </tr>\n    <tr>\n      <th>105</th>\n      <td>8373</td>\n      <td>1979</td>\n      <td>Basic</td>\n      <td>Together</td>\n      <td>24594.0</td>\n      <td>1</td>\n      <td>0</td>\n      <td>2013-12-10</td>\n      <td>94</td>\n      <td>1</td>\n      <td>...</td>\n      <td>0</td>\n      <td>0</td>\n      <td>0</td>\n      <td>0</td>\n      <td>0</td>\n      <td>0</td>\n      <td>3</td>\n      <td>11</td>\n      <td>0</td>\n      <td>35</td>\n    </tr>\n    <tr>\n      <th>1587</th>\n      <td>2471</td>\n      <td>1965</td>\n      <td>Graduation</td>\n      <td>Married</td>\n      <td>61482.0</td>\n      <td>0</td>\n      <td>0</td>\n      <td>2014-06-27</td>\n      <td>39</td>\n      <td>48</td>\n      <td>...</td>\n      <td>0</td>\n      <td>0</td>\n      <td>0</td>\n      <td>0</td>\n      <td>0</td>\n      <td>0</td>\n      <td>3</td>\n      <td>11</td>\n      <td>0</td>\n      <td>49</td>\n    </tr>\n    <tr>\n      <th>1718</th>\n      <td>10640</td>\n      <td>1974</td>\n      <td>Graduation</td>\n      <td>Together</td>\n      <td>44392.0</td>\n      <td>1</td>\n      <td>1</td>\n      <td>2013-09-05</td>\n      <td>71</td>\n      <td>87</td>\n      <td>...</td>\n      <td>0</td>\n      <td>0</td>\n      <td>0</td>\n      <td>0</td>\n      <td>0</td>\n      <td>0</td>\n      <td>3</td>\n      <td>11</td>\n      <td>0</td>\n      <td>40</td>\n    </tr>\n    <tr>\n      <th>1588</th>\n      <td>5892</td>\n      <td>1980</td>\n      <td>Graduation</td>\n      <td>Married</td>\n      <td>34968.0</td>\n      <td>1</td>\n      <td>0</td>\n      <td>2013-04-10</td>\n      <td>11</td>\n      <td>158</td>\n      <td>...</td>\n      <td>0</td>\n      <td>0</td>\n      <td>0</td>\n      <td>0</td>\n      <td>0</td>\n      <td>0</td>\n      <td>3</td>\n      <td>11</td>\n      <td>0</td>\n      <td>34</td>\n    </tr>\n  </tbody>\n</table>\n<p>10 rows × 30 columns</p>\n</div>"
     },
     "execution_count": 31,
     "metadata": {},
     "output_type": "execute_result"
    }
   ],
   "source": [
    "df_3_2 = df.copy()\n",
    "df_3_2['Age'] = df.apply(lambda x: 2014 - x['Year_Birth'], axis=1)\n",
    "samples = df_3_2.sort_values(by=['Response'], ascending=False).groupby('Response').head(5)\n",
    "samples"
   ],
   "metadata": {
    "collapsed": false
   }
  },
  {
   "cell_type": "markdown",
   "source": [
    "Notes (Initial hypotheses):\n",
    "- Columns correlated to Response: MntFruits,Meat,Fish,Hold; NumWebPurchases,CatalogPurchases; Education; Marital_Status\n",
    "- Only 2 negative customers accepted the Campaign2\n",
    "- None insight was found with positive customers related to older Campaigns"
   ],
   "metadata": {
    "collapsed": false
   }
  },
  {
   "cell_type": "markdown",
   "source": [
    "### 3.3 Lets see the statistics about data"
   ],
   "metadata": {
    "collapsed": false
   }
  },
  {
   "cell_type": "code",
   "execution_count": 8,
   "outputs": [
    {
     "data": {
      "text/plain": "                 ID   Year_Birth         Income      Kidhome     Teenhome  \\\ncount   2240.000000  2240.000000    2216.000000  2240.000000  2240.000000   \nmean    5592.159821  1968.805804   52247.251354     0.444196     0.506250   \nstd     3246.662198    11.984069   25173.076661     0.538398     0.544538   \nmin        0.000000  1893.000000    1730.000000     0.000000     0.000000   \n25%     2828.250000  1959.000000   35303.000000     0.000000     0.000000   \n50%     5458.500000  1970.000000   51381.500000     0.000000     0.000000   \n75%     8427.750000  1977.000000   68522.000000     1.000000     1.000000   \nmax    11191.000000  1996.000000  666666.000000     2.000000     2.000000   \n\n           Recency     MntWines    MntFruits  MntMeatProducts  \\\ncount  2240.000000  2240.000000  2240.000000      2240.000000   \nmean     49.109375   303.935714    26.302232       166.950000   \nstd      28.962453   336.597393    39.773434       225.715373   \nmin       0.000000     0.000000     0.000000         0.000000   \n25%      24.000000    23.750000     1.000000        16.000000   \n50%      49.000000   173.500000     8.000000        67.000000   \n75%      74.000000   504.250000    33.000000       232.000000   \nmax      99.000000  1493.000000   199.000000      1725.000000   \n\n       MntFishProducts  ...  NumWebVisitsMonth  AcceptedCmp3  AcceptedCmp4  \\\ncount      2240.000000  ...        2240.000000   2240.000000   2240.000000   \nmean         37.525446  ...           5.316518      0.072768      0.074554   \nstd          54.628979  ...           2.426645      0.259813      0.262728   \nmin           0.000000  ...           0.000000      0.000000      0.000000   \n25%           3.000000  ...           3.000000      0.000000      0.000000   \n50%          12.000000  ...           6.000000      0.000000      0.000000   \n75%          50.000000  ...           7.000000      0.000000      0.000000   \nmax         259.000000  ...          20.000000      1.000000      1.000000   \n\n       AcceptedCmp5  AcceptedCmp1  AcceptedCmp2     Complain  Z_CostContact  \\\ncount   2240.000000   2240.000000   2240.000000  2240.000000         2240.0   \nmean       0.072768      0.064286      0.013393     0.009375            3.0   \nstd        0.259813      0.245316      0.114976     0.096391            0.0   \nmin        0.000000      0.000000      0.000000     0.000000            3.0   \n25%        0.000000      0.000000      0.000000     0.000000            3.0   \n50%        0.000000      0.000000      0.000000     0.000000            3.0   \n75%        0.000000      0.000000      0.000000     0.000000            3.0   \nmax        1.000000      1.000000      1.000000     1.000000            3.0   \n\n       Z_Revenue     Response  \ncount     2240.0  2240.000000  \nmean        11.0     0.149107  \nstd          0.0     0.356274  \nmin         11.0     0.000000  \n25%         11.0     0.000000  \n50%         11.0     0.000000  \n75%         11.0     0.000000  \nmax         11.0     1.000000  \n\n[8 rows x 26 columns]",
      "text/html": "<div>\n<style scoped>\n    .dataframe tbody tr th:only-of-type {\n        vertical-align: middle;\n    }\n\n    .dataframe tbody tr th {\n        vertical-align: top;\n    }\n\n    .dataframe thead th {\n        text-align: right;\n    }\n</style>\n<table border=\"1\" class=\"dataframe\">\n  <thead>\n    <tr style=\"text-align: right;\">\n      <th></th>\n      <th>ID</th>\n      <th>Year_Birth</th>\n      <th>Income</th>\n      <th>Kidhome</th>\n      <th>Teenhome</th>\n      <th>Recency</th>\n      <th>MntWines</th>\n      <th>MntFruits</th>\n      <th>MntMeatProducts</th>\n      <th>MntFishProducts</th>\n      <th>...</th>\n      <th>NumWebVisitsMonth</th>\n      <th>AcceptedCmp3</th>\n      <th>AcceptedCmp4</th>\n      <th>AcceptedCmp5</th>\n      <th>AcceptedCmp1</th>\n      <th>AcceptedCmp2</th>\n      <th>Complain</th>\n      <th>Z_CostContact</th>\n      <th>Z_Revenue</th>\n      <th>Response</th>\n    </tr>\n  </thead>\n  <tbody>\n    <tr>\n      <th>count</th>\n      <td>2240.000000</td>\n      <td>2240.000000</td>\n      <td>2216.000000</td>\n      <td>2240.000000</td>\n      <td>2240.000000</td>\n      <td>2240.000000</td>\n      <td>2240.000000</td>\n      <td>2240.000000</td>\n      <td>2240.000000</td>\n      <td>2240.000000</td>\n      <td>...</td>\n      <td>2240.000000</td>\n      <td>2240.000000</td>\n      <td>2240.000000</td>\n      <td>2240.000000</td>\n      <td>2240.000000</td>\n      <td>2240.000000</td>\n      <td>2240.000000</td>\n      <td>2240.0</td>\n      <td>2240.0</td>\n      <td>2240.000000</td>\n    </tr>\n    <tr>\n      <th>mean</th>\n      <td>5592.159821</td>\n      <td>1968.805804</td>\n      <td>52247.251354</td>\n      <td>0.444196</td>\n      <td>0.506250</td>\n      <td>49.109375</td>\n      <td>303.935714</td>\n      <td>26.302232</td>\n      <td>166.950000</td>\n      <td>37.525446</td>\n      <td>...</td>\n      <td>5.316518</td>\n      <td>0.072768</td>\n      <td>0.074554</td>\n      <td>0.072768</td>\n      <td>0.064286</td>\n      <td>0.013393</td>\n      <td>0.009375</td>\n      <td>3.0</td>\n      <td>11.0</td>\n      <td>0.149107</td>\n    </tr>\n    <tr>\n      <th>std</th>\n      <td>3246.662198</td>\n      <td>11.984069</td>\n      <td>25173.076661</td>\n      <td>0.538398</td>\n      <td>0.544538</td>\n      <td>28.962453</td>\n      <td>336.597393</td>\n      <td>39.773434</td>\n      <td>225.715373</td>\n      <td>54.628979</td>\n      <td>...</td>\n      <td>2.426645</td>\n      <td>0.259813</td>\n      <td>0.262728</td>\n      <td>0.259813</td>\n      <td>0.245316</td>\n      <td>0.114976</td>\n      <td>0.096391</td>\n      <td>0.0</td>\n      <td>0.0</td>\n      <td>0.356274</td>\n    </tr>\n    <tr>\n      <th>min</th>\n      <td>0.000000</td>\n      <td>1893.000000</td>\n      <td>1730.000000</td>\n      <td>0.000000</td>\n      <td>0.000000</td>\n      <td>0.000000</td>\n      <td>0.000000</td>\n      <td>0.000000</td>\n      <td>0.000000</td>\n      <td>0.000000</td>\n      <td>...</td>\n      <td>0.000000</td>\n      <td>0.000000</td>\n      <td>0.000000</td>\n      <td>0.000000</td>\n      <td>0.000000</td>\n      <td>0.000000</td>\n      <td>0.000000</td>\n      <td>3.0</td>\n      <td>11.0</td>\n      <td>0.000000</td>\n    </tr>\n    <tr>\n      <th>25%</th>\n      <td>2828.250000</td>\n      <td>1959.000000</td>\n      <td>35303.000000</td>\n      <td>0.000000</td>\n      <td>0.000000</td>\n      <td>24.000000</td>\n      <td>23.750000</td>\n      <td>1.000000</td>\n      <td>16.000000</td>\n      <td>3.000000</td>\n      <td>...</td>\n      <td>3.000000</td>\n      <td>0.000000</td>\n      <td>0.000000</td>\n      <td>0.000000</td>\n      <td>0.000000</td>\n      <td>0.000000</td>\n      <td>0.000000</td>\n      <td>3.0</td>\n      <td>11.0</td>\n      <td>0.000000</td>\n    </tr>\n    <tr>\n      <th>50%</th>\n      <td>5458.500000</td>\n      <td>1970.000000</td>\n      <td>51381.500000</td>\n      <td>0.000000</td>\n      <td>0.000000</td>\n      <td>49.000000</td>\n      <td>173.500000</td>\n      <td>8.000000</td>\n      <td>67.000000</td>\n      <td>12.000000</td>\n      <td>...</td>\n      <td>6.000000</td>\n      <td>0.000000</td>\n      <td>0.000000</td>\n      <td>0.000000</td>\n      <td>0.000000</td>\n      <td>0.000000</td>\n      <td>0.000000</td>\n      <td>3.0</td>\n      <td>11.0</td>\n      <td>0.000000</td>\n    </tr>\n    <tr>\n      <th>75%</th>\n      <td>8427.750000</td>\n      <td>1977.000000</td>\n      <td>68522.000000</td>\n      <td>1.000000</td>\n      <td>1.000000</td>\n      <td>74.000000</td>\n      <td>504.250000</td>\n      <td>33.000000</td>\n      <td>232.000000</td>\n      <td>50.000000</td>\n      <td>...</td>\n      <td>7.000000</td>\n      <td>0.000000</td>\n      <td>0.000000</td>\n      <td>0.000000</td>\n      <td>0.000000</td>\n      <td>0.000000</td>\n      <td>0.000000</td>\n      <td>3.0</td>\n      <td>11.0</td>\n      <td>0.000000</td>\n    </tr>\n    <tr>\n      <th>max</th>\n      <td>11191.000000</td>\n      <td>1996.000000</td>\n      <td>666666.000000</td>\n      <td>2.000000</td>\n      <td>2.000000</td>\n      <td>99.000000</td>\n      <td>1493.000000</td>\n      <td>199.000000</td>\n      <td>1725.000000</td>\n      <td>259.000000</td>\n      <td>...</td>\n      <td>20.000000</td>\n      <td>1.000000</td>\n      <td>1.000000</td>\n      <td>1.000000</td>\n      <td>1.000000</td>\n      <td>1.000000</td>\n      <td>1.000000</td>\n      <td>3.0</td>\n      <td>11.0</td>\n      <td>1.000000</td>\n    </tr>\n  </tbody>\n</table>\n<p>8 rows × 26 columns</p>\n</div>"
     },
     "execution_count": 8,
     "metadata": {},
     "output_type": "execute_result"
    }
   ],
   "source": [
    "df.describe()"
   ],
   "metadata": {
    "collapsed": false
   }
  },
  {
   "cell_type": "markdown",
   "source": [
    "Notes:\n"
   ],
   "metadata": {
    "collapsed": false
   }
  },
  {
   "cell_type": "markdown",
   "source": [],
   "metadata": {
    "collapsed": false
   }
  },
  {
   "cell_type": "markdown",
   "source": [
    "### 3.4 Lets see the balancement of the dataset"
   ],
   "metadata": {
    "collapsed": false
   }
  },
  {
   "cell_type": "code",
   "execution_count": 11,
   "outputs": [
    {
     "data": {
      "text/plain": "0    1906\n1     334\nName: Response, dtype: int64"
     },
     "execution_count": 11,
     "metadata": {},
     "output_type": "execute_result"
    }
   ],
   "source": [
    "df['Response'].value_counts()"
   ],
   "metadata": {
    "collapsed": false
   }
  },
  {
   "cell_type": "markdown",
   "source": [
    "Notes:\n",
    "- The dataset is imbalanced\n",
    "- Percentage of customers that responded to campaign: 15%\n",
    "- Percentage of customers that not responded to campaign: 85%\n",
    "- Therefore, the future model will be good to predict a customer that will not respond to a campaign and be bad to predict if customer will respond to campaign"
   ],
   "metadata": {
    "collapsed": false
   }
  },
  {
   "cell_type": "markdown",
   "source": [
    "### 3.4 Lets see the mean of each column based on label"
   ],
   "metadata": {
    "collapsed": false
   }
  },
  {
   "cell_type": "code",
   "execution_count": 32,
   "outputs": [
    {
     "data": {
      "text/plain": "                   ID   Year_Birth        Income   Kidhome  Teenhome  \\\nResponse                                                               \n0         5622.009444  1968.698846  50839.132767  0.462225  0.541448   \n1         5421.820359  1969.416168  60209.675676  0.341317  0.305389   \n\n            Recency    MntWines  MntFruits  MntMeatProducts  MntFishProducts  \\\nResponse                                                                       \n0         51.514690  269.104407  24.216684       144.624344        34.980063   \n1         35.383234  502.703593  38.203593       294.353293        52.050898   \n\n          ...  NumStorePurchases  NumWebVisitsMonth  AcceptedCmp3  \\\nResponse  ...                                                       \n0         ...           5.736621           5.320567      0.045121   \n1         ...           6.095808           5.293413      0.230539   \n\n          AcceptedCmp4  AcceptedCmp5  AcceptedCmp1  AcceptedCmp2  Complain  \\\nResponse                                                                     \n0             0.055089      0.037251      0.034103      0.005247  0.009444   \n1             0.185629      0.275449      0.236527      0.059880  0.008982   \n\n          Z_CostContact  Z_Revenue  \nResponse                            \n0                   3.0       11.0  \n1                   3.0       11.0  \n\n[2 rows x 25 columns]",
      "text/html": "<div>\n<style scoped>\n    .dataframe tbody tr th:only-of-type {\n        vertical-align: middle;\n    }\n\n    .dataframe tbody tr th {\n        vertical-align: top;\n    }\n\n    .dataframe thead th {\n        text-align: right;\n    }\n</style>\n<table border=\"1\" class=\"dataframe\">\n  <thead>\n    <tr style=\"text-align: right;\">\n      <th></th>\n      <th>ID</th>\n      <th>Year_Birth</th>\n      <th>Income</th>\n      <th>Kidhome</th>\n      <th>Teenhome</th>\n      <th>Recency</th>\n      <th>MntWines</th>\n      <th>MntFruits</th>\n      <th>MntMeatProducts</th>\n      <th>MntFishProducts</th>\n      <th>...</th>\n      <th>NumStorePurchases</th>\n      <th>NumWebVisitsMonth</th>\n      <th>AcceptedCmp3</th>\n      <th>AcceptedCmp4</th>\n      <th>AcceptedCmp5</th>\n      <th>AcceptedCmp1</th>\n      <th>AcceptedCmp2</th>\n      <th>Complain</th>\n      <th>Z_CostContact</th>\n      <th>Z_Revenue</th>\n    </tr>\n    <tr>\n      <th>Response</th>\n      <th></th>\n      <th></th>\n      <th></th>\n      <th></th>\n      <th></th>\n      <th></th>\n      <th></th>\n      <th></th>\n      <th></th>\n      <th></th>\n      <th></th>\n      <th></th>\n      <th></th>\n      <th></th>\n      <th></th>\n      <th></th>\n      <th></th>\n      <th></th>\n      <th></th>\n      <th></th>\n      <th></th>\n    </tr>\n  </thead>\n  <tbody>\n    <tr>\n      <th>0</th>\n      <td>5622.009444</td>\n      <td>1968.698846</td>\n      <td>50839.132767</td>\n      <td>0.462225</td>\n      <td>0.541448</td>\n      <td>51.514690</td>\n      <td>269.104407</td>\n      <td>24.216684</td>\n      <td>144.624344</td>\n      <td>34.980063</td>\n      <td>...</td>\n      <td>5.736621</td>\n      <td>5.320567</td>\n      <td>0.045121</td>\n      <td>0.055089</td>\n      <td>0.037251</td>\n      <td>0.034103</td>\n      <td>0.005247</td>\n      <td>0.009444</td>\n      <td>3.0</td>\n      <td>11.0</td>\n    </tr>\n    <tr>\n      <th>1</th>\n      <td>5421.820359</td>\n      <td>1969.416168</td>\n      <td>60209.675676</td>\n      <td>0.341317</td>\n      <td>0.305389</td>\n      <td>35.383234</td>\n      <td>502.703593</td>\n      <td>38.203593</td>\n      <td>294.353293</td>\n      <td>52.050898</td>\n      <td>...</td>\n      <td>6.095808</td>\n      <td>5.293413</td>\n      <td>0.230539</td>\n      <td>0.185629</td>\n      <td>0.275449</td>\n      <td>0.236527</td>\n      <td>0.059880</td>\n      <td>0.008982</td>\n      <td>3.0</td>\n      <td>11.0</td>\n    </tr>\n  </tbody>\n</table>\n<p>2 rows × 25 columns</p>\n</div>"
     },
     "execution_count": 32,
     "metadata": {},
     "output_type": "execute_result"
    }
   ],
   "source": [
    "df_3_4 = df.groupby('Response').mean()\n",
    "df_3_4\n"
   ],
   "metadata": {
    "collapsed": false
   }
  },
  {
   "cell_type": "markdown",
   "source": [
    "Notes:\n",
    "- Year_Birth, **Income**, **Mnt.***,  Num.* - NumWebVisitsMonth, **AcceptedCmp[1-5]** was higher for **Response = 1**\n",
    "- **Kidhome**, **Teenhome**, **Recency**, NumWebVisitsMonth, Complain was higher for **Response = 0**\n",
    "- OBS: for the Num.* columns, NumWebPurchases, NumCatalogPurchases, NumStorePurchases have the most significant diff (>0.15)\n"
   ],
   "metadata": {
    "collapsed": false
   }
  }
 ],
 "metadata": {
  "kernelspec": {
   "display_name": "Python 3",
   "language": "python",
   "name": "python3"
  },
  "language_info": {
   "codemirror_mode": {
    "name": "ipython",
    "version": 2
   },
   "file_extension": ".py",
   "mimetype": "text/x-python",
   "name": "python",
   "nbconvert_exporter": "python",
   "pygments_lexer": "ipython2",
   "version": "2.7.6"
  }
 },
 "nbformat": 4,
 "nbformat_minor": 0
}
